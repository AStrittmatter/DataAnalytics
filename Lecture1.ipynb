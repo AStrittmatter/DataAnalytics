{
 "cells": [
  {
   "cell_type": "markdown",
   "metadata": {},
   "source": [
    "# **Data Analytics I**"
   ]
  },
  {
   "cell_type": "markdown",
   "metadata": {},
   "source": [
    "# Illustration Asymptotic Properties"
   ]
  },
  {
   "cell_type": "markdown",
   "metadata": {},
   "source": [
    "**Author:** [Anthony Strittmatter](http://www.anthonystrittmatter.com)"
   ]
  },
  {
   "cell_type": "markdown",
   "metadata": {},
   "source": [
    "We investigate the finite sample properties of the estimator\n",
    "\\begin{equation*}\n",
    "\\bar{x} = \\frac{1}{N} \\sum_{i=1}^{N} x_i.\n",
    "\\end{equation*}\n",
    "for increasing sample sizes. Therefore, we conduct a simulation study (Monte Carlo study). We randomly generate a binary variable $x$ for a sample of size $N$, with $x \\in \\{0,1\\}$ and $E[x]=Pr(x=1)= \\mu$. To lean about the finite sample behavior of estimators we repeat this DGP 2,000 times and estimate in each repetition the sample average of $x$. This gives us information about the finite sample distribution of the estimator. "
   ]
  },
  {
   "cell_type": "markdown",
   "metadata": {},
   "source": [
    "## Define the Input Factors"
   ]
  },
  {
   "cell_type": "code",
   "execution_count": 16,
   "metadata": {},
   "outputs": [
    {
     "name": "stdout",
     "output_type": "stream",
     "text": [
      "[1] \"Input factors defined.\"\n"
     ]
    }
   ],
   "source": [
    "############## Define Input Factors ##############\n",
    "\n",
    "# Define Sample Sizes\n",
    "sample_size <- c(10, 50, 200, 800, 4000, 12000)\n",
    "rep <- 2000 # Number of replications\n",
    "mu = 0.5\n",
    "\n",
    "print('Input factors defined.')"
   ]
  },
  {
   "cell_type": "markdown",
   "metadata": {},
   "source": [
    "## Data Generating Process (DGP)"
   ]
  },
  {
   "cell_type": "markdown",
   "metadata": {},
   "source": [
    "We generate a random sample of the binary dummy variable $x$. Then we calculate the sample average and variance of $x$ and store the results in matrices."
   ]
  },
  {
   "cell_type": "code",
   "execution_count": 17,
   "metadata": {},
   "outputs": [
    {
     "name": "stdout",
     "output_type": "stream",
     "text": [
      "[1] \"Sample averages are estimated\"\n"
     ]
    }
   ],
   "source": [
    "############## Estimation of Sample Average ##############\n",
    "\n",
    "# Set starting value for random number generators, such that results can be replicated\n",
    "set.seed(1001)\n",
    "\n",
    "# Generate matrices to store the results\n",
    "average <- matrix(NA, nrow = rep, ncol = length(sample_size))\n",
    "variance <- matrix(NA, nrow = rep, ncol = length(sample_size))\n",
    "# Rows correspond to different replications\n",
    "# Columns correspond to different sample sizes\n",
    "\n",
    "# Make a loop\n",
    "for (i in c(1:rep)) {\n",
    "    for (n in c(1:length(sample_size))) {\n",
    "        \n",
    "        # Generate dummy with Pr(x= 1) = mu\n",
    "        x <- rbinom(sample_size[n], 1, mu)\n",
    "        # Example: x could be a dummy for females\n",
    "        \n",
    "        # Calculate sample average and variance\n",
    "        average[i,n] <- mean(x) # calculate sample average for each replication\n",
    "        variance[i,n] <- var(x) # calculate sample average for each replication\n",
    "    \n",
    "    }\n",
    "}\n",
    "\n",
    "print('Sample averages are estimated')"
   ]
  },
  {
   "cell_type": "markdown",
   "metadata": {},
   "source": [
    "## Law of Large Numbers"
   ]
  },
  {
   "cell_type": "markdown",
   "metadata": {},
   "source": [
    "The *probability* that the absolute estimation bias of the sample average exceeds any positive constant converges to zero when the sample size converges to infinity."
   ]
  },
  {
   "cell_type": "code",
   "execution_count": 18,
   "metadata": {},
   "outputs": [
    {
     "data": {
      "image/png": "[encoded data removed]",
      "text/plain": [
       "Plot with title \"N = 12000\""
      ]
     },
     "metadata": {},
     "output_type": "display_data"
    }
   ],
   "source": [
    "############## Law of Large Numbers ##############\n",
    "\n",
    "# Plot Panel\n",
    "par(mfrow = c(2, 3))\n",
    "\n",
    "# Histogram\n",
    "for (n in c(1:length(sample_size))) {\n",
    "    hist(average[,n],xlim = c(0,1), freq = FALSE, main = paste(\"N =\", sample_size[n]), xlab = \"x\")\n",
    "    abline(v=mu, col=\"red\")\n",
    "}"
   ]
  },
  {
   "cell_type": "markdown",
   "metadata": {},
   "source": [
    "# Central Limit Theorem"
   ]
  },
  {
   "cell_type": "markdown",
   "metadata": {},
   "source": [
    "The standardized mean\n",
    "\\begin{equation*}\n",
    "\\sqrt{N} \\cdot\\frac{\\bar{x} - \\mu}{\\sqrt{Var(x)}}\n",
    "\\end{equation*}\n",
    "is converging to a standard normal distribution when the sample size converges to infinity."
   ]
  },
  {
   "cell_type": "code",
   "execution_count": 19,
   "metadata": {},
   "outputs": [
    {
     "data": {
      "image/png": "[encoded data removed]",
      "text/plain": [
       "Plot with title \"N = 12000\""
      ]
     },
     "metadata": {},
     "output_type": "display_data"
    }
   ],
   "source": [
    "############## Central Limit Theorem ##############\n",
    "\n",
    "# Generate matrix to store results\n",
    "dev <- matrix(NA, nrow = rep, ncol = length(sample_Size))\n",
    "\n",
    "# Standardize x\n",
    "for (n in c(1:length(sample_size))) {\n",
    "    dev[,n] <- sqrt(sample_size[n])*(average[,n]-mu)/sqrt(variance[,n])\n",
    "}\n",
    "\n",
    "# Plot Panel\n",
    "par(mfrow = c(2, 3))\n",
    "\n",
    "# Histogram\n",
    "for (n in c(1:length(sample_size))) {\n",
    "    hist(dev[,n], breaks = 20, xlim = c(-3,3), ylim = c(0,.5), freq = FALSE, main = paste(\"N =\", sample_size[n]), xlab = \"x\")\n",
    "    curve(dnorm(x), col = \"red\", add = TRUE)\n",
    "}"
   ]
  },
  {
   "cell_type": "code",
   "execution_count": null,
   "metadata": {},
   "outputs": [],
   "source": []
  }
 ],
 "metadata": {
  "kernelspec": {
   "display_name": "R",
   "language": "R",
   "name": "ir"
  },
  "language_info": {
   "codemirror_mode": "r",
   "file_extension": ".r",
   "mimetype": "text/x-r-source",
   "name": "R",
   "pygments_lexer": "r",
   "version": "3.4.3"
  }
 },
 "nbformat": 4,
 "nbformat_minor": 2
}
