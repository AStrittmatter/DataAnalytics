{
 "cells": [
  {
   "cell_type": "markdown",
   "metadata": {},
   "source": [
    "# **Data Analytics I**"
   ]
  },
  {
   "cell_type": "markdown",
   "metadata": {},
   "source": [
    "# Consistency of OLS"
   ]
  },
  {
   "cell_type": "markdown",
   "metadata": {},
   "source": [
    "**Author:** [Anthony Strittmatter](http://www.anthonystrittmatter.com)"
   ]
  },
  {
   "cell_type": "markdown",
   "metadata": {},
   "source": [
    "We investigate the finite sample properties of the OLS estimator\n",
    "\\begin{equation*}\n",
    "\\hat{\\beta} = (X'X)^{-1}X'Y,\n",
    "\\end{equation*}\n",
    "for increasing sample sizes. We conduct a Monte Carlo simulation study. The control variable $X$ and the error term $U$ are independent and follow a random normal distribution. The outcome variable $Y$ has the linear model\n",
    "\\begin{equation*}\n",
    "Y = X \\beta + U,\n",
    "\\end{equation*}\n",
    "for $\\beta = 1$. We repeat the simulation 2,000 times. "
   ]
  },
  {
   "cell_type": "markdown",
   "metadata": {},
   "source": [
    "## Define the Input Factors"
   ]
  },
  {
   "cell_type": "code",
   "execution_count": null,
   "metadata": {},
   "outputs": [],
   "source": [
    "############## Define Input Factors ##############\n",
    "\n",
    "# Define Sample Sizes\n",
    "sample_size <- c(10, 50, 200, 800, 4000, 12000)\n",
    "rep <- 2000 # Number of replications\n",
    "\n",
    "print('Input factors defined.')"
   ]
  },
  {
   "cell_type": "markdown",
   "metadata": {},
   "source": [
    "## Monte Carlo Simulation"
   ]
  },
  {
   "cell_type": "code",
   "execution_count": null,
   "metadata": {},
   "outputs": [],
   "source": [
    "############## Monte Carlo Simulation ##############\n",
    "\n",
    "# Set starting value for random number generators, such that results can be replicated\n",
    "set.seed(1001)\n",
    "     \n",
    "# Generate matrices to store the results\n",
    "beta <- matrix(NA, nrow = rep, ncol = length(sample_size))\n",
    "        \n",
    "\n",
    "# Make a loop\n",
    "for (n in c(1:length(sample_size))) {\n",
    "     \n",
    "    # Data Generating Process\n",
    "    X <- matrix(rnorm(sample_size[n]*rep,mean=0,sd=1), nrow = sample_size[n], ncol = rep) \n",
    "    U <- matrix(rnorm(sample_size[n]*rep,mean=0,sd=X^2), nrow = sample_size[n], ncol = rep) \n",
    "    Y = X + U\n",
    "    \n",
    "    for (i in c(1:rep)) {\n",
    "              \n",
    "        # Estimate the OLS coefficient\n",
    "        beta[i,n] <- solve(t(X[,i])%*%X[,i])%*%t(X[,i])%*%Y[,i]\n",
    "   \n",
    "    }\n",
    "}\n",
    "\n",
    "print('Simulation executed.')"
   ]
  },
  {
   "cell_type": "markdown",
   "metadata": {},
   "source": [
    "## Consistency"
   ]
  },
  {
   "cell_type": "markdown",
   "metadata": {},
   "source": [
    "We plot the distibution of the estimated OLS coeffficients $\\hat{\\beta}$."
   ]
  },
  {
   "cell_type": "code",
   "execution_count": null,
   "metadata": {},
   "outputs": [],
   "source": [
    "############## Consistency ##############\n",
    "\n",
    "# Plot Panel\n",
    "par(mfrow = c(2, 3))\n",
    "\n",
    "# Histogram\n",
    "for (n in c(1:length(sample_size))) {\n",
    "    hist(beta[,n],xlim = c(-1,3), freq = FALSE, main = paste(\"N =\", sample_size[n]), xlab = \"beta\")\n",
    "    abline(v=1, col=\"red\")\n",
    "}"
   ]
  },
  {
   "cell_type": "code",
   "execution_count": null,
   "metadata": {},
   "outputs": [],
   "source": []
  }
 ],
 "metadata": {
  "kernelspec": {
   "display_name": "R",
   "language": "R",
   "name": "ir"
  },
  "language_info": {
   "codemirror_mode": "r",
   "file_extension": ".r",
   "mimetype": "text/x-r-source",
   "name": "R",
   "pygments_lexer": "r",
   "version": "3.6.1"
  }
 },
 "nbformat": 4,
 "nbformat_minor": 2
}
