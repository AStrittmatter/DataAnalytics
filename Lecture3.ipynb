{
 "cells": [
  {
   "cell_type": "markdown",
   "metadata": {},
   "source": [
    "# Data Analytics I"
   ]
  },
  {
   "cell_type": "markdown",
   "metadata": {},
   "source": [
    "# **Training and Test Samples**"
   ]
  },
  {
   "cell_type": "markdown",
   "metadata": {},
   "source": [
    "**Authors:**\n",
    "[Anthony Strittmatter](http://www.anthonystrittmatter.com)\n"
   ]
  },
  {
   "cell_type": "markdown",
   "metadata": {},
   "source": [
    "We web-scraped used car offers from the online auction platform *MyLemons*. We restrict our sample to BMW 320 series, Opel Astra, Mercedes C-class, VW Golf, and VW Passat. We select only used cars with a mileage between 10,000-200,000 km and an age between 1-20 years. \n",
    "\n",
    "We obtain the following variables:\n",
    "\n",
    "\n",
    "|Variable name| Description|\n",
    "|:----|:----|\n",
    "|**Outcome variables** ||\n",
    "|*first_price*| First asking price in 1,000 CHF |\n",
    "|**Baseline covariates**| |\n",
    "|*bmw_320, opel_astra, mercedes_c, vw_golf, vw_passat*| Dummies for the car make and model|\n",
    "|*mileage*| Mileage of the used car (in 1,000 km)|\n",
    "|*age_car_years*| Age of the used car (in years)|\n",
    "|*diesel*| Dummy for diesel engines |\n",
    "|*private_seller*| Dummy for private seller (as opposed to professional used car sellers) |\n",
    "|*other_car_owner*| Number of previous caar owners |\n",
    "|*guarantee*| Dummy indicating that the seller offers a guarantee for the used car|\n",
    "|*maintenance_cert*| Dummy indicating that the seller has a complete maintenace certificate for the used car|\n",
    "|*inspection*| Categorial variable for the duration until next general inspection (3 categories: new, 1-2 years, < 1 year) |\n",
    "|*pm_green*| Dummy indicating that the used car has low particular matter emissions|\n",
    "|*co2_em*| CO2 emssion (in g/km)|\n",
    "|*euro_norm*| EURO emission norm under which the car is registered |\n",
    "\n",
    "\n",
    "Furthermore, we generate some transformations of our covariates for later analysis. The transformed covariates are:\n",
    "\n",
    "|Variable name| Description|\n",
    "|:----|:----|\n",
    "|**Additional covariates** ||\n",
    "|*mileage2, mileage3, mileage4, age_car_years2, age_car_years3, age_car_years4*| Squared, cubic, and quadratic *mileage* and *age_car_years* |\n",
    "|*mile_20, mile_30, mile_40, mile_50, mile_100, mile_150*| Dummies indicating that the used car has a mileage above 20,000km, 30,000km, 40,000km, 50,000km, 100,000km, or 150,000km |\n",
    "|*age_3, age_6*| Dummies indicating that the used car is above 3 or 6 years old |\n",
    "|*dur_next_ins_0*| Dummy indicating that the duration until the next general inspection is less than a years |\n",
    "|*dur_next_ins_1_2*| Dummy indicating that the duration until the next general inspection is between 1 and 2 years |\n",
    "|*new_inspection*| Dummy indicating that the used car has a new general inspection |\n",
    "|*euro_1, euro_2, euro_3, euro_4, euro_5, euro_6*| Dummies for EURO emission norms |\n",
    "\n",
    "We store the prepared data in the file *used_cars_small.csv*.  \n"
   ]
  },
  {
   "cell_type": "markdown",
   "metadata": {},
   "source": [
    "## Load Data \n"
   ]
  },
  {
   "cell_type": "code",
   "execution_count": 25,
   "metadata": {},
   "outputs": [
    {
     "name": "stdout",
     "output_type": "stream",
     "text": [
      "[1] \"Data frame successfully loaded.\"\n"
     ]
    }
   ],
   "source": [
    "########################  Load Data  ########################\n",
    "# Set seed\n",
    "set.seed(12345)\n",
    "\n",
    "# Load data frame\n",
    "df_train <- read.csv(\"Data/used_cars_train.csv\",header=TRUE, sep=\",\")\n",
    "df_test <- read.csv(\"Data/used_cars_test.csv\",header=TRUE, sep=\",\")\n",
    "\n",
    "# Specify Outcome Variable\n",
    "first_price_train <- as.matrix(df_train[,2])\n",
    "first_price_test <- as.matrix(df_test[,2])\n",
    "\n",
    "# Specify Covariates\n",
    "#First Variable is the Intercept\n",
    "covariates_train <- as.matrix(cbind(rep(1,nrow(df_train)),df_train[,c(3:ncol(df_train))]))\n",
    "covariates_test <- as.matrix(cbind(rep(1,nrow(df_test)),df_test[,c(3:ncol(df_test))])) \n",
    "\n",
    "print('Data frame successfully loaded.')"
   ]
  },
  {
   "cell_type": "markdown",
   "metadata": {},
   "source": [
    "## Estimation"
   ]
  },
  {
   "cell_type": "markdown",
   "metadata": {},
   "source": [
    "We estimate different OLS models. We start with  model that contains only a constant. Then we increase the number of covariates succesively. For each OLS model, we calculate the MSE in the training and test sample."
   ]
  },
  {
   "cell_type": "code",
   "execution_count": 7,
   "metadata": {},
   "outputs": [
    {
     "name": "stdout",
     "output_type": "stream",
     "text": [
      "[1] \"Models are estimated.\"\n"
     ]
    }
   ],
   "source": [
    "########################  Estimation  ########################\n",
    "\n",
    "# Generate Matrices to Store the Results\n",
    "mse <- matrix(NA, nrow = ncol(covariates_train), ncol = 2) # 50:50 Partition\n",
    "y_hat_train <- matrix(NA,nrow = nrow(first_price_train), ncol = ncol(covariates_train)) #Training Sample\n",
    "y_hat_test <- matrix(NA,nrow = nrow(first_price_test), ncol = ncol(covariates_train)) # Test Sample\n",
    "\n",
    "# Estimate Different OLS Models\n",
    "# Start with a model containing only an intercept\n",
    "# Add covariates one-by-one\n",
    "for (c in (1:ncol(covariates_train))){\n",
    "  formular <- lm.fit(as.matrix(covariates_train[,c(1:c)]),first_price_train) # OLS Regression\n",
    "  y_hat_train[,c] <- formular$fitted.values # Fitted Values in Training Sample\n",
    "  coef <- as.matrix(formular$coefficients) # Store Vector of Coefficients\n",
    "  coef[is.na(coef)] <- 0 # Replace NAs with 0\n",
    "  y_hat_test[,c] <- covariates_test[,c(1:c)] %*% coef # Fitted Values in Test Sample\n",
    "  mse[c,1] <- round(mean((y_hat_train[,c] - first_price_train)^2),digits=3) # MSE of Training Sample\n",
    "  mse[c,2] <- mean((y_hat_test[,c] - first_price_test)^2) # MSE of Test Sample\n",
    "}\n",
    "\n",
    "# Add Column with Number of Covariates\n",
    "mse <- cbind(mse,seq(1,nrow(mse)))\n",
    "\n",
    "print('Models are estimated.')"
   ]
  },
  {
   "cell_type": "markdown",
   "metadata": {},
   "source": [
    "## Plot the MSE in Training Sample"
   ]
  },
  {
   "cell_type": "code",
   "execution_count": 8,
   "metadata": {},
   "outputs": [
    {
     "name": "stdout",
     "output_type": "stream",
     "text": [
      "[1] \"MSE for K = 1: 46.948\"\n",
      "[1] \"MSE for K = 10: 9.819\"\n",
      "[1] \"MSE for K = 40: 4.866\"\n"
     ]
    },
    {
     "data": {
      "image/png": "[encoded data removed]",
      "text/plain": [
       "plot without title"
      ]
     },
     "metadata": {},
     "output_type": "display_data"
    }
   ],
   "source": [
    "##################### Plot MSE in Training Sample ##################### \n",
    "\n",
    "plot(mse[,3],mse[,1], type = \"n\", ylab = \"MSE\", xlab = \"Number of Covariates\")\n",
    "lines(mse[,3],mse[,1])\n",
    "\n",
    "print(paste0(\"MSE for K = 1: \",mse[1,1]))\n",
    "print(paste0(\"MSE for K = 10: \",mse[10,1]))\n",
    "print(paste0(\"MSE for K = 40: \",mse[40,1]))"
   ]
  },
  {
   "cell_type": "markdown",
   "metadata": {},
   "source": [
    "## Scatterplot Predicted Prices in Training Sample"
   ]
  },
  {
   "cell_type": "code",
   "execution_count": 3,
   "metadata": {},
   "outputs": [
    {
     "data": {
      "image/png": "[encoded data removed]",
      "text/plain": [
       "plot without title"
      ]
     },
     "metadata": {},
     "output_type": "display_data"
    }
   ],
   "source": [
    "##################### Scatterplot Predicted Prices in Training Sample ##################### \n",
    "\n",
    "plot(first_price_train,y_hat_train[,1],xlim=c(5,30),ylim=c(5,30), col= \"darkgreen\", xlab = \"Observed Price\", ylab = \"Predicted Price\" )\n",
    "par(new=TRUE)\n",
    "plot(first_price_train,y_hat_train[,10],xlim=c(5,30),ylim=c(5,30), col= \"blue\", xlab = \"Observed Price\", ylab = \"Predicted Price\" )\n",
    "par(new=TRUE)\n",
    "plot(first_price_train,y_hat_train[,40],xlim=c(5,30),ylim=c(5,30), col= \"red\", xlab = \"Observed Price\", ylab = \"Predicted Price\" )\n",
    "abline(a=0,b=1)\n",
    "legend(24.5, 14, c(\"K=1\", \"K=10\", \"K=40\"), col = c(\"darkgreen\", \"blue\", \"red\"), pch = c(21, 21, 21))"
   ]
  },
  {
   "cell_type": "markdown",
   "metadata": {},
   "source": [
    "## Plot MSE in Test Sample"
   ]
  },
  {
   "cell_type": "code",
   "execution_count": 5,
   "metadata": {},
   "outputs": [
    {
     "name": "stdout",
     "output_type": "stream",
     "text": [
      "[1] 45.7416\n",
      "[1] 8.222041\n",
      "[1] 46.49916\n"
     ]
    },
    {
     "data": {
      "image/png": "[encoded data removed]",
      "text/plain": [
       "plot without title"
      ]
     },
     "metadata": {},
     "output_type": "display_data"
    }
   ],
   "source": [
    "##################### Plot MSE in Test Sample ##################### \n",
    "\n",
    "plot(mse[,3],mse[,2], type = \"n\", ylab = \"MSE\", xlab = \"Number of Covariates\")\n",
    "lines(mse[,3],mse[,2])\n",
    "\n",
    "print(paste0(\"MSE for K = 1: \",mse[1,2]))\n",
    "print(paste0(\"MSE for K = 10: \",mse[10,2]))\n",
    "print(paste0(\"MSE for K = 40: \",mse[40,2]))"
   ]
  },
  {
   "cell_type": "markdown",
   "metadata": {},
   "source": [
    "## Scatterplot Predicted Prices in Test Sample"
   ]
  },
  {
   "cell_type": "code",
   "execution_count": 42,
   "metadata": {},
   "outputs": [
    {
     "data": {
      "image/png": "[encoded data removed]",
      "text/plain": [
       "plot without title"
      ]
     },
     "metadata": {},
     "output_type": "display_data"
    }
   ],
   "source": [
    "##################### Scatterplot Predicted Prices in Test Sample ##################### \n",
    "\n",
    "plot(first_price_test,y_hat_test[,1],xlim=c(5,30),ylim=c(5,30), col= \"darkgreen\", xlab = \"Observed Price\", ylab = \"Predicted Price\")\n",
    "par(new=TRUE)\n",
    "plot(first_price_test,y_hat_test[,10],xlim=c(5,30),ylim=c(5,30), col= \"blue\", xlab = \"Observed Price\", ylab = \"Predicted Price\")\n",
    "par(new=TRUE)\n",
    "plot(first_price_test,y_hat_test[,40],xlim=c(5,30),ylim=c(5,30), col= \"red\", xlab = \"Observed Price\", ylab = \"Predicted Price\")\n",
    "abline(a=0,b=1)\n",
    "legend(24.5, 14, c(\"K=1\", \"K=10\", \"K=40\"), col = c(\"darkgreen\", \"blue\", \"red\"), pch = c(21, 21, 21))"
   ]
  },
  {
   "cell_type": "markdown",
   "metadata": {},
   "source": [
    "# Simulation of Bias-Variance Trade-Off"
   ]
  },
  {
   "cell_type": "markdown",
   "metadata": {},
   "source": [
    "We load a large data set from *myLemons* with 104,721 observations and the same covariates as above. We take one observation to the test sample. We simulate the used car prices with the model\n",
    "\\begin{equation*}\n",
    "price = \\hat{\\beta}_0 + \\hat{\\beta}_1 mileage + \\epsilon,\n",
    "\\end{equation*}\n",
    "where $\\hat{\\beta}_0$ and $\\hat{\\beta}_1$ are obtained from OLS estimates in the real data and $\\epsilon \\sim N(0,sd^2)$ (with $sd = 4$) adds artifical noise to the DGP. We subsample the data in $sub = 1000$ partitions.\n",
    "\n",
    "For each replication, we estimate OLS model. We add covariates successively. We calulate the MSE, squared-bias, and variance accross all simulations."
   ]
  },
  {
   "cell_type": "code",
   "execution_count": 31,
   "metadata": {},
   "outputs": [
    {
     "data": {
      "image/png": "[encoded data removed]",
      "text/plain": [
       "plot without title"
      ]
     },
     "metadata": {},
     "output_type": "display_data"
    }
   ],
   "source": [
    "\n",
    "# Set input parameters for the simulation\n",
    "sub = 1000 # number of subamples\n",
    "sd = 40 # irreducable noise\n",
    "\n",
    "# Load data\n",
    "data_raw <- read.csv(\"Data/mylemon.csv\",header=TRUE, sep=\",\")\n",
    "\n",
    "# Set starting values for random number generator\n",
    "set.seed(100001)\n",
    "\n",
    "# Select training and test sample\n",
    "df_train <- data_raw[-1,] # drops the first observation\n",
    "df_test <- data_raw[1,] # contains only the first observation\n",
    "\n",
    "# Define outcome and control variable\n",
    "first_price_train <- as.matrix(df_train[,2])\n",
    "first_price_test <- as.matrix(df_test[,2])\n",
    "covariates_train <- as.matrix(cbind(rep(1,nrow(df_train)),df_train[,c(3:ncol(df_train))]))\n",
    "covariates_test <- as.matrix(cbind(rep(1,nrow(df_test)),df_test[,c(3:ncol(df_test))]))\n",
    "\n",
    "# Simulate the Data Generating Process\n",
    "u_tr <- matrix(rnorm(nrow(first_price_train),0,sd),nrow= nrow(first_price_train), ncol =1) # Irreducable noise\n",
    "formular <- lm.fit(rbind(covariates_train[,c(1,2)],covariates_test[,c(1,2)]),rbind(first_price_train,first_price_test))\n",
    "coef <- as.matrix(formular$coefficients)\n",
    "coef[is.na(coef)] <- 0\n",
    "y_new_train <- covariates_train[,c(1,2)] %*% coef  +u_tr # only the constant and first variable (mileage) influence the simulated prices\n",
    "y_0 <- coef[1,1] + coef[2,1]*covariates_test[1,2]  \n",
    "p <- as.matrix(ceiling(runif(nrow(df_train),0,sub))) # define sample partitions\n",
    "\n",
    "# Estimate different OLS models on simulated data\n",
    "#mse1 <- matrix(NA, nrow = ncol(covariates_train), ncol = rep)\n",
    "mse <- matrix(NA, nrow = ncol(covariates_train), ncol = sub)\n",
    "y_hat_test <- matrix(NA, nrow = ncol(covariates_train), ncol = sub)\n",
    "for (n in (1:sub)) { # iterate through replications of DGP\n",
    "    for (c in (1:ncol(covariates_train))){ # iterate through OLS models with different number ofcovariates\n",
    "        formular <- lm.fit(as.matrix(covariates_train[p==n,c(1:c)]),y_new_train[p==n,])\n",
    "        y_hat_train <- formular$fitted.values\n",
    "        coef <- as.matrix(formular$coefficients)\n",
    "        coef[is.na(coef)] <- 0\n",
    "        y_hat_test[c,n] <- covariates_test[c(1:c)] %*% coef\n",
    "        mse[c,n] <- mean((y_hat_test[c,n] - y_0 - rnorm(1,0,sd))^2)\n",
    "    }\n",
    "}\n",
    "\n",
    "test <- matrix(NA, nrow = ncol(covariates_train), ncol = 3)\n",
    "for (c in (1:ncol(covariates_train))){\n",
    "    test[c,1] <- var(y_hat_test[c,])\n",
    "    test[c,2] <- mean(y_hat_test[c,]- y_0)^2\n",
    "    test[c,3] <- mean(mse[c,]) \n",
    "}\n",
    "test <- cbind(test,seq(1,nrow(mse)))\n",
    "\n",
    "# Plot Bias-Variance Trade-Off\n",
    "plot(test[,4],test[,3], type = \"n\", ylab = \"\", xlab = \"Number of Covariates\", ylim = c(0,28))\n",
    "lines(test[,4],test[,3], col = \"red\",lwd = 2)\n",
    "par(new=TRUE)\n",
    "lines(test[,4],test[,2], col = \"darkgreen\",lwd = 2)\n",
    "par(new=TRUE)\n",
    "lines(test[,4],test[,1], col = \"orange\",lwd = 2)\n",
    "abline(h=sd^2,lty = 3)\n",
    "legend(24.5, 650, c(\"MSE\", \"Squared-Bias\", \"Variance\"), col = c(\"red\", \"darkgreen\", \"orange\"), lty = c(1,1, 1),lwd = 2)"
   ]
  },
  {
   "cell_type": "code",
   "execution_count": null,
   "metadata": {},
   "outputs": [],
   "source": []
  }
 ],
 "metadata": {
  "kernelspec": {
   "display_name": "R",
   "language": "R",
   "name": "ir"
  },
  "language_info": {
   "codemirror_mode": "r",
   "file_extension": ".r",
   "mimetype": "text/x-r-source",
   "name": "R",
   "pygments_lexer": "r",
   "version": "3.4.3"
  }
 },
 "nbformat": 4,
 "nbformat_minor": 2
}
